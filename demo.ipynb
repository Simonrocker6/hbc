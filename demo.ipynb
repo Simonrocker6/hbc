{
 "cells": [
  {
   "cell_type": "code",
   "execution_count": 1,
   "id": "6f82fe8f-4e9b-460d-81a9-ed966e4cc751",
   "metadata": {},
   "outputs": [
    {
     "name": "stdout",
     "output_type": "stream",
     "text": [
      "Streamlit, version 1.25.0\n"
     ]
    }
   ],
   "source": [
    "!streamlit --version"
   ]
  },
  {
   "cell_type": "code",
   "execution_count": null,
   "id": "b0ae1469-a44d-4a0b-9221-1c6be41fbe04",
   "metadata": {},
   "outputs": [],
   "source": [
    "!streamlit hello"
   ]
  }
 ],
 "metadata": {
  "kernelspec": {
   "display_name": "Python 3 (ipykernel)",
   "language": "python",
   "name": "python3"
  },
  "language_info": {
   "codemirror_mode": {
    "name": "ipython",
    "version": 3
   },
   "file_extension": ".py",
   "mimetype": "text/x-python",
   "name": "python",
   "nbconvert_exporter": "python",
   "pygments_lexer": "ipython3",
   "version": "3.11.4"
  }
 },
 "nbformat": 4,
 "nbformat_minor": 5
}
